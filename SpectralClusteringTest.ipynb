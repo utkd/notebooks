{
 "cells": [
  {
   "cell_type": "code",
   "execution_count": 12,
   "metadata": {},
   "outputs": [
    {
     "name": "stdout",
     "output_type": "stream",
     "text": [
      "Populating the interactive namespace from numpy and matplotlib\n"
     ]
    }
   ],
   "source": [
    "import numpy as np\n",
    "import networkx as nx\n",
    "import scipy\n",
    "from matplotlib import pyplot as plt\n",
    "%pylab inline"
   ]
  },
  {
   "cell_type": "code",
   "execution_count": 68,
   "metadata": {},
   "outputs": [],
   "source": [
    "adjlist = [  [0,1,1,0,0,0,0,0,0],\n",
    "             [1,0,0,1,0,0,0,0,0],\n",
    "             [1,0,0,1,1,0,0,0,0],\n",
    "             [0,1,1,0,1,0,0,0,0],\n",
    "             [0,0,1,1,0,0,0,0,0],\n",
    "             [0,0,0,0,0,0,1,1,1],\n",
    "             [0,0,0,0,0,1,0,1,0],\n",
    "             [0,0,0,0,0,1,1,0,1],\n",
    "             [0,0,0,0,0,1,0,1,0]  ]\n",
    "nodenames = ['A','B','C','D','E','F','G','H','I']"
   ]
  },
  {
   "cell_type": "code",
   "execution_count": 69,
   "metadata": {},
   "outputs": [],
   "source": [
    "adj = np.array(adjlist)\n",
    "g = nx.DiGraph(adj)\n",
    "h = nx.relabel_nodes(g,mapping={i:v for i,v in enumerate(nodenames)})"
   ]
  },
  {
   "cell_type": "code",
   "execution_count": null,
   "metadata": {
    "scrolled": true
   },
   "outputs": [],
   "source": [
    "plt.figure(figsize=(6,6))\n",
    "pos = nx.spring_layout(h)\n",
    "nx.draw_networkx_nodes(h, pos, cmap=plt.get_cmap('jet'), node_size = 400)\n",
    "nx.draw_networkx_labels(h, pos)\n",
    "nx.draw_networkx_edges(h, pos, edgelist=h.edges(), arrows=False)\n",
    "plt.show()"
   ]
  },
  {
   "cell_type": "markdown",
   "metadata": {},
   "source": [
    "### Eigens"
   ]
  },
  {
   "cell_type": "code",
   "execution_count": 78,
   "metadata": {},
   "outputs": [],
   "source": [
    "A = adj"
   ]
  },
  {
   "cell_type": "code",
   "execution_count": 85,
   "metadata": {},
   "outputs": [],
   "source": [
    "D = np.diag(A.sum(axis=1))"
   ]
  },
  {
   "cell_type": "code",
   "execution_count": 87,
   "metadata": {},
   "outputs": [],
   "source": [
    "L = D-A"
   ]
  },
  {
   "cell_type": "code",
   "execution_count": 79,
   "metadata": {},
   "outputs": [
    {
     "name": "stdout",
     "output_type": "stream",
     "text": [
      "Eigenvalue: -8.881784197001252e-16\n",
      "Eigenvalue: 4.618033988749893\n",
      "Eigenvalue: 1.3819660112501035\n",
      "Eigenvalue: 2.3819660112501024\n",
      "Eigenvalue: 3.6180339887498945\n",
      "Eigenvalue: 4.0\n",
      "Eigenvalue: 1.1102230246251565e-16\n",
      "Eigenvalue: 4.000000000000001\n",
      "Eigenvalue: 1.9999999999999998\n"
     ]
    }
   ],
   "source": [
    "vals, vecs = np.linalg.eig(L)\n",
    "# print results\n",
    "for i, value in enumerate(vals):\n",
    "    print(\"Eigenvalue:\", value)"
   ]
  },
  {
   "cell_type": "code",
   "execution_count": null,
   "metadata": {},
   "outputs": [],
   "source": [
    "plt.scatter(np.arange(9), vals, color='r')"
   ]
  },
  {
   "cell_type": "code",
   "execution_count": 227,
   "metadata": {},
   "outputs": [],
   "source": [
    "def analyze_graph(a):\n",
    "    a = np.array(a)\n",
    "    g = nx.DiGraph(a)\n",
    "    fig,ax=plt.subplots(1,2)\n",
    "    fig.set_size_inches(14, 5)\n",
    "    pos = nx.spring_layout(g)\n",
    "    nx.draw_networkx_nodes(g, pos, cmap=plt.get_cmap('jet'), node_size = 100, ax=ax[0])\n",
    "    nx.draw_networkx_labels(g, pos, ax=ax[0])\n",
    "    nx.draw_networkx_edges(g, pos, edgelist=g.edges(), arrows=False, ax=ax[0])\n",
    "    d = np.diag(a.sum(axis=1))\n",
    "    l = d - a\n",
    "    vals, vecs = np.linalg.eig(l)\n",
    "    idx = vals.argsort()\n",
    "    vals = vals[idx]\n",
    "    vecs = vecs[:,idx]\n",
    "    ax[1].grid()\n",
    "    ax[1].scatter(np.arange(len(vals)), vals, color='r')\n",
    "    labels = [1 if v > 0 else 0 for v in vecs[1]]\n",
    "    print(labels)\n",
    "    return vals, vecs, g"
   ]
  },
  {
   "cell_type": "code",
   "execution_count": 228,
   "metadata": {},
   "outputs": [
    {
     "name": "stdout",
     "output_type": "stream",
     "text": [
      "[0, 0, 0, 0, 1, 1, 0, 0, 1]\n"
     ]
    },
    {
     "data": {
      "text/plain": [
       "(array([-8.88178420e-16,  1.11022302e-16,  1.38196601e+00,  2.00000000e+00,\n",
       "         2.38196601e+00,  3.61803399e+00,  4.00000000e+00,  4.00000000e+00,\n",
       "         4.61803399e+00]),\n",
       " array([[-4.47213595e-01,  0.00000000e+00, -5.11667274e-01,\n",
       "          0.00000000e+00, -6.01500955e-01,  1.95439508e-01,\n",
       "          0.00000000e+00,  0.00000000e+00, -3.71748034e-01],\n",
       "        [-4.47213595e-01,  0.00000000e+00, -5.11667274e-01,\n",
       "          0.00000000e+00,  6.01500955e-01,  1.95439508e-01,\n",
       "          0.00000000e+00,  0.00000000e+00,  3.71748034e-01],\n",
       "        [-4.47213595e-01,  0.00000000e+00,  1.95439508e-01,\n",
       "          0.00000000e+00, -3.71748034e-01, -5.11667274e-01,\n",
       "          0.00000000e+00,  0.00000000e+00,  6.01500955e-01],\n",
       "        [-4.47213595e-01,  0.00000000e+00,  1.95439508e-01,\n",
       "          0.00000000e+00,  3.71748034e-01, -5.11667274e-01,\n",
       "          0.00000000e+00,  0.00000000e+00, -6.01500955e-01],\n",
       "        [-4.47213595e-01,  0.00000000e+00,  6.32455532e-01,\n",
       "          0.00000000e+00,  1.08523598e-15,  6.32455532e-01,\n",
       "          0.00000000e+00,  0.00000000e+00, -1.26535645e-16],\n",
       "        [ 0.00000000e+00, -5.00000000e-01,  0.00000000e+00,\n",
       "          1.06800332e-16,  0.00000000e+00,  0.00000000e+00,\n",
       "          8.66025404e-01, -1.57094284e-01,  0.00000000e+00],\n",
       "        [ 0.00000000e+00, -5.00000000e-01,  0.00000000e+00,\n",
       "         -7.07106781e-01,  0.00000000e+00,  0.00000000e+00,\n",
       "         -2.88675135e-01,  4.53840203e-01,  0.00000000e+00],\n",
       "        [ 0.00000000e+00, -5.00000000e-01,  0.00000000e+00,\n",
       "          7.48699631e-18,  0.00000000e+00,  0.00000000e+00,\n",
       "         -2.88675135e-01, -7.50586122e-01,  0.00000000e+00],\n",
       "        [ 0.00000000e+00, -5.00000000e-01,  0.00000000e+00,\n",
       "          7.07106781e-01,  0.00000000e+00,  0.00000000e+00,\n",
       "         -2.88675135e-01,  4.53840203e-01,  0.00000000e+00]]),\n",
       " <networkx.classes.digraph.DiGraph at 0x12b9395d0>)"
      ]
     },
     "execution_count": 228,
     "metadata": {},
     "output_type": "execute_result"
    },
    {
     "data": {
      "image/png": "[encoded data removed]",
      "text/plain": [
       "<Figure size 1008x360 with 2 Axes>"
      ]
     },
     "metadata": {
      "needs_background": "light"
     },
     "output_type": "display_data"
    }
   ],
   "source": [
    "analyze_graph(adj)"
   ]
  },
  {
   "cell_type": "code",
   "execution_count": 236,
   "metadata": {},
   "outputs": [
    {
     "name": "stdout",
     "output_type": "stream",
     "text": [
      "[0, 0, 0, 0, 0, 0, 1, 0, 0, 0, 0, 1, 1, 1, 1]\n"
     ]
    },
    {
     "data": {
      "image/png": "[encoded data removed]",
      "text/plain": [
       "<Figure size 1008x360 with 2 Axes>"
      ]
     },
     "metadata": {
      "needs_background": "light"
     },
     "output_type": "display_data"
    }
   ],
   "source": [
    "b = np.zeros((15,15), dtype=int)\n",
    "for r in np.random.randint(low=0,high=5,size=4):\n",
    "    for c in np.random.randint(low=0,high=5,size=4):\n",
    "        if r == c:\n",
    "            continue\n",
    "        b[r,c] = 1\n",
    "        b[c,r] = 1\n",
    "for r in np.random.randint(low=5,high=10,size=4):\n",
    "    for c in np.random.randint(low=5,high=10,size=4):\n",
    "        if r == c:\n",
    "            continue\n",
    "        b[r,c] = 1\n",
    "        b[c,r] = 1\n",
    "for r in np.random.randint(low=10,high=15,size=4):\n",
    "    for c in np.random.randint(low=10,high=15,size=4):\n",
    "        if r == c:\n",
    "            continue\n",
    "        b[r,c] = 1\n",
    "        b[c,r] = 1\n",
    "b[0,7] = 1\n",
    "b[8,12] = 1\n",
    "vals, vecs, g = analyze_graph(b)"
   ]
  },
  {
   "cell_type": "code",
   "execution_count": 180,
   "metadata": {},
   "outputs": [
    {
     "data": {
      "text/plain": [
       "array([ 9.23879533e-01, -3.82683432e-01,  2.19836614e-17,  7.58668608e-17,\n",
       "        4.62592927e-17, -2.16930458e-01, -1.52635224e-17, -3.16227766e-01,\n",
       "       -5.04222100e-17,  1.59052123e-17,  0.00000000e+00,  0.00000000e+00,\n",
       "        0.00000000e+00,  0.00000000e+00,  0.00000000e+00])"
      ]
     },
     "execution_count": 180,
     "metadata": {},
     "output_type": "execute_result"
    }
   ],
   "source": [
    "vecs[0]"
   ]
  },
  {
   "cell_type": "code",
   "execution_count": 264,
   "metadata": {},
   "outputs": [
    {
     "name": "stdout",
     "output_type": "stream",
     "text": [
      "[0, 0, 0, 0, 0, 0, 0, 0, 0, 0, 1, 0, 0, 1, 1, 0, 0, 0, 0, 0, 0, 0, 0, 0, 0, 0, 0, 0, 1, 0, 0, 0, 0, 0, 0, 0, 0, 0, 0, 0, 1, 0, 0, 0, 0, 0, 0, 0, 0, 0]\n"
     ]
    },
    {
     "data": {
      "image/png": "[encoded data removed]",
      "text/plain": [
       "<Figure size 1008x360 with 2 Axes>"
      ]
     },
     "metadata": {
      "needs_background": "light"
     },
     "output_type": "display_data"
    }
   ],
   "source": [
    "b = np.zeros((50,50), dtype=int)\n",
    "for r in np.random.randint(low=0,high=15,size=10):\n",
    "    for c in np.random.randint(low=0,high=15,size=10):\n",
    "        if r == c:\n",
    "            continue\n",
    "        b[r,c] = 1\n",
    "        b[c,r] = 1\n",
    "for r in np.random.randint(low=15,high=40,size=10):\n",
    "    for c in np.random.randint(low=15,high=40,size=10):\n",
    "        if r == c:\n",
    "            continue\n",
    "        b[r,c] = 1\n",
    "        b[c,r] = 1\n",
    "for r in np.random.randint(low=40,high=50,size=8):\n",
    "    for c in np.random.randint(low=40,high=50,size=8):\n",
    "        if r == c:\n",
    "            continue\n",
    "        b[r,c] = 1\n",
    "        b[c,r] = 1\n",
    "#b[0,7] = 1\n",
    "#b[8,12] = 1\n",
    "vals, vecs, g = analyze_graph(b)"
   ]
  },
  {
   "cell_type": "code",
   "execution_count": 265,
   "metadata": {},
   "outputs": [],
   "source": [
    "from sklearn.cluster import KMeans"
   ]
  },
  {
   "cell_type": "code",
   "execution_count": 266,
   "metadata": {},
   "outputs": [
    {
     "data": {
      "text/plain": [
       "(50, 50)"
      ]
     },
     "execution_count": 266,
     "metadata": {},
     "output_type": "execute_result"
    }
   ],
   "source": [
    "vecs.shape"
   ]
  },
  {
   "cell_type": "code",
   "execution_count": 272,
   "metadata": {},
   "outputs": [],
   "source": [
    "x = vecs[:,1:3]"
   ]
  },
  {
   "cell_type": "code",
   "execution_count": 273,
   "metadata": {},
   "outputs": [
    {
     "data": {
      "text/plain": [
       "(50, 2)"
      ]
     },
     "execution_count": 273,
     "metadata": {},
     "output_type": "execute_result"
    }
   ],
   "source": [
    "#x = np.transpose(x)\n",
    "x.shape"
   ]
  },
  {
   "cell_type": "code",
   "execution_count": 274,
   "metadata": {},
   "outputs": [
    {
     "data": {
      "text/plain": [
       "<matplotlib.collections.PathCollection at 0x129c99710>"
      ]
     },
     "execution_count": 274,
     "metadata": {},
     "output_type": "execute_result"
    },
    {
     "data": {
      "image/png": "[encoded data removed]",
      "text/plain": [
       "<Figure size 432x288 with 1 Axes>"
      ]
     },
     "metadata": {
      "needs_background": "light"
     },
     "output_type": "display_data"
    }
   ],
   "source": [
    "plt.scatter(vecs[:,1], vecs[:,2])"
   ]
  },
  {
   "cell_type": "code",
   "execution_count": 275,
   "metadata": {},
   "outputs": [],
   "source": [
    "km = KMeans(n_clusters=3).fit(x)"
   ]
  },
  {
   "cell_type": "code",
   "execution_count": 276,
   "metadata": {},
   "outputs": [
    {
     "data": {
      "text/plain": [
       "array([2, 2, 2, 2, 2, 2, 2, 2, 2, 2, 2, 2, 2, 2, 2, 0, 0, 0, 0, 0, 0, 0,\n",
       "       0, 0, 0, 0, 0, 0, 0, 0, 0, 0, 0, 0, 0, 0, 0, 0, 0, 0, 1, 1, 1, 1,\n",
       "       1, 1, 1, 1, 1, 1], dtype=int32)"
      ]
     },
     "execution_count": 276,
     "metadata": {},
     "output_type": "execute_result"
    }
   ],
   "source": [
    "km.labels_"
   ]
  },
  {
   "cell_type": "code",
   "execution_count": null,
   "metadata": {},
   "outputs": [],
   "source": []
  }
 ],
 "metadata": {
  "kernelspec": {
   "display_name": "Python (py37)",
   "language": "python",
   "name": "py37"
  },
  "language_info": {
   "codemirror_mode": {
    "name": "ipython",
    "version": 3
   },
   "file_extension": ".py",
   "mimetype": "text/x-python",
   "name": "python",
   "nbconvert_exporter": "python",
   "pygments_lexer": "ipython3",
   "version": "3.7.7"
  }
 },
 "nbformat": 4,
 "nbformat_minor": 4
}
